{
 "cells": [
  {
   "cell_type": "markdown",
   "id": "3Xg_RQfnafXz",
   "metadata": {
    "id": "3Xg_RQfnafXz"
   },
   "source": [
    "# ¡Llena ese carrito!"
   ]
  },
  {
   "cell_type": "markdown",
   "id": "mhIvmmkW414q",
   "metadata": {
    "id": "mhIvmmkW414q"
   },
   "source": [
    "# Introducción\n",
    "\n",
    "Instacart es una plataforma de entregas de comestibles donde la clientela puede registrar un pedido y hacer que se lo entreguen, similar a Uber Eats y Door Dash.\n",
    "El conjunto de datos que te hemos proporcionado tiene modificaciones del original. Redujimos el tamaño del conjunto para que tus cálculos se hicieran más rápido e introdujimos valores ausentes y duplicados. Tuvimos cuidado de conservar las distribuciones de los datos originales cuando hicimos los cambios.\n",
    "\n",
    "Debes completar tres pasos. Para cada uno de ellos, escribe una breve introducción que refleje con claridad cómo pretendes resolver cada paso, y escribe párrafos explicatorios que justifiquen tus decisiones al tiempo que avanzas en tu solución.  También escribe una conclusión que resuma tus hallazgos y elecciones.\n"
   ]
  },
  {
   "cell_type": "markdown",
   "id": "3MbyzpOQZ5Or",
   "metadata": {
    "id": "3MbyzpOQZ5Or"
   },
   "source": [
    "## Diccionario de datos\n",
    "\n",
    "Hay cinco tablas en el conjunto de datos, y tendrás que usarlas todas para hacer el preprocesamiento de datos y el análisis exploratorio de datos. A continuación se muestra un diccionario de datos que enumera las columnas de cada tabla y describe los datos que contienen.\n",
    "\n",
    "- `instacart_orders.csv`: cada fila corresponde a un pedido en la aplicación Instacart.\n",
    "    - `'order_id'`: número de ID que identifica de manera única cada pedido.\n",
    "    - `'user_id'`: número de ID que identifica de manera única la cuenta de cada cliente.\n",
    "    - `'order_number'`: el número de veces que este cliente ha hecho un pedido.\n",
    "    - `'order_dow'`: día de la semana en que se hizo el pedido (0 si es domingo).\n",
    "    - `'order_hour_of_day'`: hora del día en que se hizo el pedido.\n",
    "    - `'days_since_prior_order'`: número de días transcurridos desde que este cliente hizo su pedido anterior.\n",
    "- `products.csv`: cada fila corresponde a un producto único que pueden comprar los clientes.\n",
    "    - `'product_id'`: número ID que identifica de manera única cada producto.\n",
    "    - `'product_name'`: nombre del producto.\n",
    "    - `'aisle_id'`: número ID que identifica de manera única cada categoría de pasillo de víveres.\n",
    "    - `'department_id'`: número ID que identifica de manera única cada departamento de víveres.\n",
    "- `order_products.csv`: cada fila corresponde a un artículo pedido en un pedido.\n",
    "    - `'order_id'`: número de ID que identifica de manera única cada pedido.\n",
    "    - `'product_id'`: número ID que identifica de manera única cada producto.\n",
    "    - `'add_to_cart_order'`: el orden secuencial en el que se añadió cada artículo en el carrito.\n",
    "    - `'reordered'`: 0 si el cliente nunca ha pedido este producto antes, 1 si lo ha pedido.\n",
    "- `aisles.csv`\n",
    "    - `'aisle_id'`: número ID que identifica de manera única cada categoría de pasillo de víveres.\n",
    "    - `'aisle'`: nombre del pasillo.\n",
    "- `departments.csv`\n",
    "    - `'department_id'`: número ID que identifica de manera única cada departamento de víveres.\n",
    "    - `'department'`: nombre del departamento."
   ]
  },
  {
   "cell_type": "markdown",
   "id": "n3Ha_cNSZ8lK",
   "metadata": {
    "id": "n3Ha_cNSZ8lK"
   },
   "source": [
    "# Paso 1. Descripción de los datos\n",
    "\n",
    "Lee los archivos de datos (`/datasets/instacart_orders.csv`, `/datasets/products.csv`, `/datasets/aisles.csv`, `/datasets/departments.csv` y `/datasets/order_products.csv`) con `pd.read_csv()` usando los parámetros adecuados para leer los datos correctamente. Verifica la información para cada DataFrame creado.\n"
   ]
  },
  {
   "cell_type": "markdown",
   "id": "OmlQPLlyaAfR",
   "metadata": {
    "id": "OmlQPLlyaAfR"
   },
   "source": [
    "## Plan de solución\n",
    "\n",
    "Escribe aquí tu plan de solución para el Paso 1. Descripción de los datos."
   ]
  },
  {
   "cell_type": "code",
   "execution_count": 1,
   "id": "fbf1adab",
   "metadata": {
    "id": "fbf1adab"
   },
   "outputs": [],
   "source": [
    "# importar librerías\n",
    "import pandas as pd\n",
    "import numpy as np\n",
    "import matplotlib.pyplot as plt"
   ]
  },
  {
   "cell_type": "code",
   "execution_count": 2,
   "id": "ad36396d",
   "metadata": {
    "id": "ad36396d"
   },
   "outputs": [],
   "source": [
    "# leer conjuntos de datos en los DataFrames\n",
    "aisles_df = pd.read_csv('aisles.csv', sep=';')\n",
    "departments_df = pd.read_csv('departments.csv',sep=';')\n",
    "instacart_orders_df = pd.read_csv('instacart_orders.csv', sep=';')\n",
    "products_df = pd.read_csv('products.csv', sep=';')\n",
    "order_products_df = pd.read_csv('order_products.csv', sep=';')"
   ]
  },
  {
   "cell_type": "code",
   "execution_count": 3,
   "id": "ad6a1efa",
   "metadata": {
    "id": "ad6a1efa"
   },
   "outputs": [
    {
     "name": "stdout",
     "output_type": "stream",
     "text": [
      "<class 'pandas.core.frame.DataFrame'>\n",
      "RangeIndex: 134 entries, 0 to 133\n",
      "Data columns (total 2 columns):\n",
      " #   Column    Non-Null Count  Dtype \n",
      "---  ------    --------------  ----- \n",
      " 0   aisle_id  134 non-null    int64 \n",
      " 1   aisle     134 non-null    object\n",
      "dtypes: int64(1), object(1)\n",
      "memory usage: 2.2+ KB\n"
     ]
    }
   ],
   "source": [
    "# mostrar información del DataFrame\n",
    "\n",
    "aisles_df.info()"
   ]
  },
  {
   "cell_type": "code",
   "execution_count": 4,
   "id": "5130e05e",
   "metadata": {
    "id": "5130e05e"
   },
   "outputs": [
    {
     "name": "stdout",
     "output_type": "stream",
     "text": [
      "<class 'pandas.core.frame.DataFrame'>\n",
      "RangeIndex: 21 entries, 0 to 20\n",
      "Data columns (total 2 columns):\n",
      " #   Column         Non-Null Count  Dtype \n",
      "---  ------         --------------  ----- \n",
      " 0   department_id  21 non-null     int64 \n",
      " 1   department     21 non-null     object\n",
      "dtypes: int64(1), object(1)\n",
      "memory usage: 464.0+ bytes\n"
     ]
    }
   ],
   "source": [
    "# mostrar información del DataFrame\n",
    "departments_df.info()"
   ]
  },
  {
   "cell_type": "code",
   "execution_count": 5,
   "id": "d8370c05",
   "metadata": {
    "id": "d8370c05"
   },
   "outputs": [
    {
     "name": "stdout",
     "output_type": "stream",
     "text": [
      "<class 'pandas.core.frame.DataFrame'>\n",
      "RangeIndex: 478967 entries, 0 to 478966\n",
      "Data columns (total 6 columns):\n",
      " #   Column                  Non-Null Count   Dtype  \n",
      "---  ------                  --------------   -----  \n",
      " 0   order_id                478967 non-null  int64  \n",
      " 1   user_id                 478967 non-null  int64  \n",
      " 2   order_number            478967 non-null  int64  \n",
      " 3   order_dow               478967 non-null  int64  \n",
      " 4   order_hour_of_day       478967 non-null  int64  \n",
      " 5   days_since_prior_order  450148 non-null  float64\n",
      "dtypes: float64(1), int64(5)\n",
      "memory usage: 21.9 MB\n"
     ]
    }
   ],
   "source": [
    "# mostrar información del DataFrame\n",
    "instacart_orders_df.info()"
   ]
  },
  {
   "cell_type": "code",
   "execution_count": 6,
   "id": "59e2090f",
   "metadata": {
    "id": "59e2090f"
   },
   "outputs": [
    {
     "name": "stdout",
     "output_type": "stream",
     "text": [
      "<class 'pandas.core.frame.DataFrame'>\n",
      "RangeIndex: 49694 entries, 0 to 49693\n",
      "Data columns (total 4 columns):\n",
      " #   Column         Non-Null Count  Dtype \n",
      "---  ------         --------------  ----- \n",
      " 0   product_id     49694 non-null  int64 \n",
      " 1   product_name   48436 non-null  object\n",
      " 2   aisle_id       49694 non-null  int64 \n",
      " 3   department_id  49694 non-null  int64 \n",
      "dtypes: int64(3), object(1)\n",
      "memory usage: 1.5+ MB\n"
     ]
    }
   ],
   "source": [
    "# mostrar información del DataFrame\n",
    "products_df.info()"
   ]
  },
  {
   "cell_type": "code",
   "execution_count": 7,
   "id": "6fc81694",
   "metadata": {
    "id": "6fc81694"
   },
   "outputs": [
    {
     "name": "stdout",
     "output_type": "stream",
     "text": [
      "<class 'pandas.core.frame.DataFrame'>\n",
      "RangeIndex: 4545007 entries, 0 to 4545006\n",
      "Data columns (total 4 columns):\n",
      " #   Column             Non-Null Count    Dtype  \n",
      "---  ------             --------------    -----  \n",
      " 0   order_id           4545007 non-null  int64  \n",
      " 1   product_id         4545007 non-null  int64  \n",
      " 2   add_to_cart_order  4544171 non-null  float64\n",
      " 3   reordered          4545007 non-null  int64  \n",
      "dtypes: float64(1), int64(3)\n",
      "memory usage: 138.7 MB\n"
     ]
    }
   ],
   "source": [
    "# mostrar información del DataFrame\n",
    "order_products_df.info(show_counts=True)"
   ]
  },
  {
   "cell_type": "markdown",
   "id": "t75BD19oaR5f",
   "metadata": {
    "id": "t75BD19oaR5f"
   },
   "source": [
    "## Conclusiones\n",
    "\n",
    "#### Observé que todos los conjuntos de datos contenían una columna. Al analizar cómo estaban separados los datos, llegué a la conclusión de que estaban delimitados por ';'. Por lo tanto, simplemente agregué el argumento 'sep =';' a cada llamada de pd.read_csv() para poder estudiar adecuadamente la información de cada conjunto de datos.\n",
    "\n",
    "#### Posteriormente, me llamo la atencion 'instacard_orders' puesto que tiene una columna con bastantes valores ausentes 'days_since_prior_order' esto puede ser debido a que esas ordenes acaban de ser realizada. En 'products_df' tiene en la columna  'product_name' datos nulos y por ultimo en order_products_df, la columna 'add_to_cart_order' tambien tiene datos nulos ademas de que es un tipo float"
   ]
  },
  {
   "cell_type": "markdown",
   "id": "78a0ace7",
   "metadata": {},
   "source": []
  },
  {
   "cell_type": "markdown",
   "id": "8RJHqxVmaVsF",
   "metadata": {
    "id": "8RJHqxVmaVsF"
   },
   "source": [
    "# Paso 2. Preprocesamiento de los datos\n",
    "\n",
    "Preprocesa los datos de la siguiente manera:\n",
    "\n",
    "- Verifica y corrige los tipos de datos (por ejemplo, asegúrate de que las columnas de ID sean números enteros).\n",
    "- Identifica y completa los valores ausentes.\n",
    "- Identifica y elimina los valores duplicados.\n",
    "\n",
    "Asegúrate de explicar qué tipos de valores ausentes y duplicados encontraste, cómo los completaste o eliminaste y por qué usaste esos métodos. ¿Por qué crees que estos valores ausentes y duplicados pueden haber estado presentes en el conjunto de datos?"
   ]
  },
  {
   "cell_type": "markdown",
   "id": "p6poABZQaZYb",
   "metadata": {
    "id": "p6poABZQaZYb"
   },
   "source": [
    "## Plan de solución\n",
    "\n",
    "### Primer punto: Verificación y conversión del tipo de dato\n",
    "\n",
    "- Utilizar el método `.dtype()` para verificar si los datos son del tipo requerido, en este caso, 'int'.\n",
    "- Si la columna no tiene el tipo de dato correcto, utilizar el método `.astype()` para convertirla al tipo adecuado.\n",
    "\n",
    "### Segundo punto: Tratamiento de datos ausentes\n",
    "\n",
    "- Utilizar los métodos `.fillna()` e `.isna()` para identificar y reemplazar los datos ausentes en el DataFrame.\n",
    "- `fillna()` se usará para rellenar los valores faltantes.\n",
    "- `isna()` ayudará a identificar dónde están ubicados los datos ausentes en primer lugar.\n",
    "\n",
    "### Tercer punto: Eliminación de duplicados\n",
    "\n",
    "- Utilizar los métodos `.duplicates()` y `.drop_duplicates()` para identificar y eliminar duplicados en el DataFrame, respectivamente.\n",
    "- Esto garantizará que los datos estén libres de duplicados y que no haya redundancia en la información."
   ]
  },
  {
   "cell_type": "markdown",
   "id": "07357848-dc64-4156-9cc3-01ff4365226d",
   "metadata": {
    "id": "07357848-dc64-4156-9cc3-01ff4365226d"
   },
   "source": [
    "## Encuentra y elimina los valores duplicados (y describe cómo tomaste tus decisiones)."
   ]
  },
  {
   "cell_type": "markdown",
   "id": "f179f0a9",
   "metadata": {
    "id": "f179f0a9"
   },
   "source": [
    "### `orders` data frame"
   ]
  },
  {
   "cell_type": "code",
   "execution_count": 8,
   "id": "b99297a5-405a-463d-8535-9adc3da4ad74",
   "metadata": {
    "id": "b99297a5-405a-463d-8535-9adc3da4ad74"
   },
   "outputs": [
    {
     "name": "stdout",
     "output_type": "stream",
     "text": [
      "Hay 15 pedidos duplicados.\n",
      "Filas duplicadas:\n",
      "        order_id  user_id  order_number  order_dow  order_hour_of_day  \\\n",
      "145574    794638    50898            24          3                  2   \n",
      "223105   2160484   107525            16          3                  2   \n",
      "230807   1918001   188546            14          3                  2   \n",
      "266232   1782114   106752             1          3                  2   \n",
      "273805   1112182   202304            84          3                  2   \n",
      "284038   2845099    31189            11          3                  2   \n",
      "311713   1021560    53767             3          3                  2   \n",
      "321100    408114    68324             4          3                  2   \n",
      "323900   1919531   191501            32          3                  2   \n",
      "345917   2232988    82565             1          3                  2   \n",
      "371905    391768    57671            19          3                  2   \n",
      "394347    467134    63189            21          3                  2   \n",
      "411408   1286742   183220            48          3                  2   \n",
      "415163   2282673    86751            49          3                  2   \n",
      "441599   2125197    14050            48          3                  2   \n",
      "\n",
      "        days_since_prior_order  \n",
      "145574                     2.0  \n",
      "223105                    30.0  \n",
      "230807                    16.0  \n",
      "266232                     NaN  \n",
      "273805                     6.0  \n",
      "284038                     7.0  \n",
      "311713                     9.0  \n",
      "321100                    18.0  \n",
      "323900                     7.0  \n",
      "345917                     NaN  \n",
      "371905                    10.0  \n",
      "394347                     2.0  \n",
      "411408                     4.0  \n",
      "415163                     2.0  \n",
      "441599                     3.0  \n"
     ]
    }
   ],
   "source": [
    "# Revisa si hay pedidos duplicados\n",
    "\n",
    "subset='order_id'\n",
    "pedidos_duplicados = instacart_orders_df.duplicated(subset='order_id')\n",
    "\n",
    "# Contar la cantidad de pedidos duplicados\n",
    "cantidad_pedidos_duplicados = pedidos_duplicados.sum()\n",
    "\n",
    "if cantidad_pedidos_duplicados > 0:\n",
    "    print(\"Hay\", cantidad_pedidos_duplicados, \"pedidos duplicados.\")\n",
    "    # Muestra las filas duplicadas\n",
    "    print(\"Filas duplicadas:\")\n",
    "    print(instacart_orders_df[pedidos_duplicados])\n",
    "else:\n",
    "    print(\"No se encontraron pedidos duplicados.\")"
   ]
  },
  {
   "cell_type": "markdown",
   "id": "PEkwUX_gvt5A",
   "metadata": {
    "id": "PEkwUX_gvt5A"
   },
   "source": [
    "Durante el análisis de duplicados, se encontraron 15 pedidos duplicados al considerar tanto la columna 'user_id' de manera exclusiva como al realizar el análisis sin esta distinción. Este descubrimiento reafirma la singularidad del identificador de usuario asociado a cada pedido en nuestro conjunto de datos.\n",
    "\n",
    "Este resultado sugiere que cada usuario posee un ID único en nuestra base de datos de pedidos. La detección de duplicados al considerar solo el 'user_id' indica que no existen usuarios con el mismo ID registrado en nuestros datos. Además, la presencia de duplicados sin la especificación de una distinción de columnas implica que algunos pedidos son completamente idénticos, lo que refuerza la idea de que cada pedido está vinculado de manera exclusiva a un único usuario."
   ]
  },
  {
   "cell_type": "code",
   "execution_count": 9,
   "id": "0d44de5d",
   "metadata": {
    "id": "0d44de5d"
   },
   "outputs": [
    {
     "name": "stdout",
     "output_type": "stream",
     "text": [
      "        order_id  user_id  order_number  order_dow  order_hour_of_day  \\\n",
      "4838     2766110   162084            41          3                  2   \n",
      "5156     2190225   138285            18          3                  2   \n",
      "15506     553049    58599            13          3                  2   \n",
      "18420     382357   120200            19          3                  2   \n",
      "24691     690242    77357             2          3                  2   \n",
      "...          ...      ...           ...        ...                ...   \n",
      "457013   3384021    14881             6          3                  2   \n",
      "458816    910166   164782            18          3                  2   \n",
      "459635   1680532   106435             6          3                  2   \n",
      "468324    222962    54979            59          3                  2   \n",
      "477526   2592344    46860            38          3                  2   \n",
      "\n",
      "        days_since_prior_order  \n",
      "4838                      16.0  \n",
      "5156                      11.0  \n",
      "15506                      7.0  \n",
      "18420                     11.0  \n",
      "24691                      9.0  \n",
      "...                        ...  \n",
      "457013                    30.0  \n",
      "458816                     4.0  \n",
      "459635                    21.0  \n",
      "468324                     3.0  \n",
      "477526                     3.0  \n",
      "\n",
      "[121 rows x 6 columns]\n"
     ]
    }
   ],
   "source": [
    "# Basándote en tus hallazgos,\n",
    "# Verifica todos los pedidos que se hicieron el miércoles a las 2:00 a.m.\n",
    "\n",
    "day_hour_filter = instacart_orders_df.query('(order_dow == 3) & (order_hour_of_day == 2)')\n",
    "\n",
    "print(day_hour_filter)"
   ]
  },
  {
   "cell_type": "markdown",
   "id": "vu2OWyoqwOx5",
   "metadata": {
    "id": "vu2OWyoqwOx5"
   },
   "source": [
    "Es notable que todos los pedidos duplicados identificados estén concentrados en el mismo día y hora: miércoles a las 2:00 a.m. Este patrón sugiere la posibilidad de que en ese momento se haya producido un pico significativo en las compras, y los duplicados podrían haber surgido como resultado de algún error en el sistema o proceso de registro de pedidos. "
   ]
  },
  {
   "cell_type": "code",
   "execution_count": 10,
   "id": "480563c7",
   "metadata": {
    "id": "480563c7"
   },
   "outputs": [],
   "source": [
    "# Elimina los pedidos duplicados\n",
    "instacart_orders_df = instacart_orders_df.drop_duplicates().reset_index(drop=True)"
   ]
  },
  {
   "cell_type": "code",
   "execution_count": 11,
   "id": "0b2396a2",
   "metadata": {
    "id": "0b2396a2"
   },
   "outputs": [
    {
     "data": {
      "text/plain": [
       "0"
      ]
     },
     "execution_count": 11,
     "metadata": {},
     "output_type": "execute_result"
    }
   ],
   "source": [
    "# Vuelve a verificar si hay filas duplicadas\n",
    "\n",
    "instacart_orders_df.duplicated().sum()"
   ]
  },
  {
   "cell_type": "code",
   "execution_count": 12,
   "id": "f6113ef1",
   "metadata": {
    "id": "f6113ef1"
   },
   "outputs": [
    {
     "name": "stdout",
     "output_type": "stream",
     "text": [
      "0\n"
     ]
    }
   ],
   "source": [
    "# Vuelve a verificar únicamente si hay IDs duplicados de pedidos\n",
    "print(instacart_orders_df['order_id'].duplicated().sum())"
   ]
  },
  {
   "cell_type": "markdown",
   "id": "5e8905ae",
   "metadata": {
    "id": "5e8905ae"
   },
   "source": [
    "Se vio que efectivamente, basandonos en 'order_id' podiamos ver que el numero de duplicados es el mismo, '15'"
   ]
  },
  {
   "cell_type": "markdown",
   "id": "45e6bc46",
   "metadata": {
    "id": "45e6bc46"
   },
   "source": [
    "### `products` data frame"
   ]
  },
  {
   "cell_type": "code",
   "execution_count": 13,
   "id": "5f526b5b-8175-46fa-a0fd-441767d50e64",
   "metadata": {
    "id": "5f526b5b-8175-46fa-a0fd-441767d50e64"
   },
   "outputs": [
    {
     "name": "stdout",
     "output_type": "stream",
     "text": [
      "No hay productos duplicados\n"
     ]
    }
   ],
   "source": [
    "# Verifica si hay filas totalmente duplicadas\n",
    "\n",
    "filas_duplicadas = products_df.duplicated().sum()\n",
    "\n",
    "if filas_duplicadas > 0:\n",
    "    print('Hay', filas_duplicadas, 'productos duplicados')\n",
    "elif filas_duplicadas == 0:\n",
    "    print('No hay productos duplicados')"
   ]
  },
  {
   "cell_type": "code",
   "execution_count": 14,
   "id": "88daa4f4",
   "metadata": {
    "id": "88daa4f4"
   },
   "outputs": [
    {
     "name": "stdout",
     "output_type": "stream",
     "text": [
      "Hay 49673 id de departamento duplicados\n"
     ]
    }
   ],
   "source": [
    "# Revisa únicamente si hay ID de departamentos duplicados\n",
    "id_duplicadas = products_df['department_id'].duplicated().sum()\n",
    "\n",
    "if id_duplicadas > 0:\n",
    "    print('Hay', id_duplicadas, 'id de departamento duplicados')\n",
    "elif id_duplicadas == 0:\n",
    "    print('No hay id de departamento duplicados')"
   ]
  },
  {
   "cell_type": "code",
   "execution_count": 15,
   "id": "c773f0bf",
   "metadata": {
    "id": "c773f0bf"
   },
   "outputs": [
    {
     "name": "stdout",
     "output_type": "stream",
     "text": [
      "Hay 1361 nombres duplicados\n"
     ]
    }
   ],
   "source": [
    "# Revisa únicamente si hay nombres duplicados de productos (convierte los nombres a letras mayúsculas para compararlos mejor)\n",
    "nombres_duplicados = products_df['product_name'].str.upper().duplicated().sum()\n",
    "\n",
    "if nombres_duplicados > 0:\n",
    "    print('Hay', nombres_duplicados, 'nombres duplicados')\n",
    "elif nombres_duplicados == 0:\n",
    "    print('No hay nombres duplicados')"
   ]
  },
  {
   "cell_type": "code",
   "execution_count": 16,
   "id": "01efd02e",
   "metadata": {
    "id": "01efd02e"
   },
   "outputs": [
    {
     "name": "stdout",
     "output_type": "stream",
     "text": [
      "Hay 104 nombres duplicados\n"
     ]
    }
   ],
   "source": [
    "# Revisa si hay nombres duplicados de productos no faltantes\n",
    "\n",
    "productos_sin_faltantes = products_df['product_name'].dropna().str.upper()\n",
    "\n",
    "nombres_duplicados = productos_sin_faltantes.duplicated().sum()\n",
    "\n",
    "if nombres_duplicados > 0:\n",
    "    print('Hay', nombres_duplicados, 'nombres duplicados')\n",
    "elif nombres_duplicados == 0:\n",
    "    print('No hay nombres duplicados')"
   ]
  },
  {
   "cell_type": "markdown",
   "id": "9da8d293",
   "metadata": {
    "id": "9da8d293"
   },
   "source": [
    "Al analizar el DataFrame Products_csv, se observa que no existen filas completamente duplicadas. Sin embargo, se encontraron 49,673 identificadores de departamento duplicados, lo cual es coherente ya que cada departamento debe tener un único identificador.\n",
    "\n",
    "Además, se identificaron 1,361 nombres duplicados de productos. Sin embargo, al examinar duplicados de nombres sin datos faltantes, esta cifra disminuyó significativamente a 104 nombres duplicados. Esto sugiere que hay una cantidad considerable de filas sin nombre de producto en el conjunto de datos.\n",
    "\n"
   ]
  },
  {
   "cell_type": "markdown",
   "id": "60f30db1",
   "metadata": {
    "id": "60f30db1"
   },
   "source": [
    "### `departments` data frame"
   ]
  },
  {
   "cell_type": "code",
   "execution_count": 17,
   "id": "fb410ad4-0fbf-4b80-bb09-23fdea79afe3",
   "metadata": {
    "id": "fb410ad4-0fbf-4b80-bb09-23fdea79afe3"
   },
   "outputs": [
    {
     "name": "stdout",
     "output_type": "stream",
     "text": [
      "No hay filas duplicadas\n"
     ]
    }
   ],
   "source": [
    "# Revisa si hay filas totalmente duplicadas\n",
    "filas_duplicadas_departments = products_df.duplicated().sum()\n",
    "\n",
    "if filas_duplicadas_departments > 0:\n",
    "    print('Hay', filas_duplicadas_departments, 'filas duplicados')\n",
    "elif filas_duplicadas_departments == 0:\n",
    "    print('No hay filas duplicadas')"
   ]
  },
  {
   "cell_type": "code",
   "execution_count": 18,
   "id": "332b12bb",
   "metadata": {
    "id": "332b12bb"
   },
   "outputs": [
    {
     "name": "stdout",
     "output_type": "stream",
     "text": [
      "No hay id de departamento duplicados\n"
     ]
    }
   ],
   "source": [
    "# Revisa únicamente si hay IDs duplicadas de productos\n",
    "id_duplicadas = departments_df['department_id'].duplicated().sum()\n",
    "\n",
    "if id_duplicadas > 0:\n",
    "    print('Hay', id_duplicadas, 'id de departamento duplicados')\n",
    "elif id_duplicadas == 0:\n",
    "    print('No hay id de departamento duplicados')\n"
   ]
  },
  {
   "cell_type": "markdown",
   "id": "bd30d78e",
   "metadata": {
    "id": "bd30d78e"
   },
   "source": [
    "No hay duplicados pues es un dataframe creado con la finalidad de guardar nombre id de departamento unicamente, por lo tanto es normal la ausencia de duplicados "
   ]
  },
  {
   "cell_type": "markdown",
   "id": "889349c1",
   "metadata": {
    "id": "889349c1"
   },
   "source": [
    "### `aisles` data frame"
   ]
  },
  {
   "cell_type": "code",
   "execution_count": 19,
   "id": "9da89fb9-4679-40f5-ad0d-c34df753a3f8",
   "metadata": {
    "id": "9da89fb9-4679-40f5-ad0d-c34df753a3f8"
   },
   "outputs": [
    {
     "name": "stdout",
     "output_type": "stream",
     "text": [
      "No hay filas duplicadas\n"
     ]
    }
   ],
   "source": [
    "# Revisa si hay filas totalmente duplicadas\n",
    "filas_aisles_duplicadas = aisles_df.duplicated().sum()\n",
    "\n",
    "if filas_aisles_duplicadas > 0:\n",
    "    print('Hay', filas_aisles_duplicadas, 'filas duplicadas')\n",
    "elif filas_aisles_duplicadas == 0:\n",
    "    print('No hay filas duplicadas')"
   ]
  },
  {
   "cell_type": "code",
   "execution_count": 20,
   "id": "da7c2822",
   "metadata": {
    "id": "da7c2822"
   },
   "outputs": [
    {
     "name": "stdout",
     "output_type": "stream",
     "text": [
      "No hay id de departamento duplicados\n"
     ]
    }
   ],
   "source": [
    "# Revisa únicamente si hay IDs duplicadas de productos\n",
    "id_duplicadas = aisles_df['aisle_id'].duplicated().sum()\n",
    "\n",
    "if id_duplicadas > 0:\n",
    "    print('Hay', id_duplicadas, 'id de departamento duplicados')\n",
    "elif id_duplicadas == 0:\n",
    "    print('No hay id de departamento duplicados')\n"
   ]
  },
  {
   "cell_type": "markdown",
   "id": "ac63826f",
   "metadata": {
    "id": "ac63826f"
   },
   "source": [
    "Similar a lo que paso con apartments, no hay ni duplicados por fila completa ni basandonos unicamente en el id del producto, por que es un dataset hecho para etiquetar ciertos productos por id."
   ]
  },
  {
   "cell_type": "markdown",
   "id": "274cd06a",
   "metadata": {
    "id": "274cd06a"
   },
   "source": [
    "### `order_products` data frame"
   ]
  },
  {
   "cell_type": "code",
   "execution_count": 21,
   "id": "52326689-84a8-4b8f-a881-7c68780f62c9",
   "metadata": {
    "id": "52326689-84a8-4b8f-a881-7c68780f62c9"
   },
   "outputs": [
    {
     "name": "stdout",
     "output_type": "stream",
     "text": [
      "No hay filas duplicadas\n"
     ]
    }
   ],
   "source": [
    "# Revisa si hay filas totalmente duplicadas\n",
    "filas_order_products_duplicadas = order_products_df.duplicated().sum()\n",
    "\n",
    "if filas_order_products_duplicadas > 0:\n",
    "    print('Hay', filas_order_products_duplicadas, 'filas duplicadas')\n",
    "elif filas_order_products_duplicadas == 0:\n",
    "    print('No hay filas duplicadas')\n"
   ]
  },
  {
   "cell_type": "code",
   "execution_count": 22,
   "id": "7b861391",
   "metadata": {
    "id": "7b861391"
   },
   "outputs": [
    {
     "name": "stdout",
     "output_type": "stream",
     "text": [
      "No se encontraron duplicados engañosos en el DataFrame order_products.\n"
     ]
    }
   ],
   "source": [
    "# Vuelve a verificar si hay cualquier otro duplicado engañoso\n",
    "\n",
    "# Verifica el número de filas antes de eliminar duplicados\n",
    "rows_before = order_products_df.shape[0]\n",
    "\n",
    "# Elimina los duplicados basados en todas las columnas del DataFrame\n",
    "order_products_df.drop_duplicates(inplace=True)\n",
    "\n",
    "# Verifica el número de filas después de eliminar duplicados\n",
    "rows_after = order_products_df.shape[0]\n",
    "\n",
    "# Calcula la diferencia en el número de filas\n",
    "duplicates_removed = rows_before - rows_after\n",
    "\n",
    "if duplicates_removed == 0:\n",
    "    print(\"No se encontraron duplicados engañosos en el DataFrame order_products.\")\n",
    "else:\n",
    "    print(f\"Se eliminaron {duplicates_removed} duplicados engañosos del DataFrame order_products.\")\n",
    "\n"
   ]
  },
  {
   "cell_type": "code",
   "execution_count": 23,
   "id": "c357f748",
   "metadata": {},
   "outputs": [
    {
     "name": "stdout",
     "output_type": "stream",
     "text": [
      "Duplicados basados en 'order_id':\n",
      "         order_id  product_id  add_to_cart_order  reordered\n",
      "150017     852330       15891               16.0          0\n",
      "4359230   2880060         162                9.0          1\n",
      "2852195   1754208       33401                8.0          0\n",
      "987456     181457       40174                3.0          1\n",
      "1683484   2210175       25952                4.0          1\n",
      "\n",
      "Duplicados basados en 'product_id':\n",
      "         order_id  product_id  add_to_cart_order  reordered\n",
      "3881871   2651656       19171                9.0          1\n",
      "3978342   1921111       30321               13.0          0\n",
      "3429588   2116864       43355               17.0          0\n",
      "1338678    489443       47766               21.0          1\n",
      "2893282    847566       44359                6.0          1\n",
      "\n",
      "<class 'pandas.core.frame.DataFrame'>\n",
      "RangeIndex: 4545007 entries, 0 to 4545006\n",
      "Data columns (total 4 columns):\n",
      " #   Column             Dtype  \n",
      "---  ------             -----  \n",
      " 0   order_id           int64  \n",
      " 1   product_id         int64  \n",
      " 2   add_to_cart_order  float64\n",
      " 3   reordered          int64  \n",
      "dtypes: float64(1), int64(3)\n",
      "memory usage: 138.7 MB\n"
     ]
    }
   ],
   "source": [
    "# Encuentra las filas duplicadas basadas en 'order_id'\n",
    "duplicated_rows_order_id = order_products_df[order_products_df['order_id'].duplicated()]\n",
    "# Selecciona 10 filas aleatorias de los registros duplicados basados en 'order_id'\n",
    "sampled_duplicates_order_id = duplicated_rows_order_id.sample(n=5)\n",
    "\n",
    "print(\"Duplicados basados en 'order_id':\")\n",
    "print(sampled_duplicates_order_id)\n",
    "print()\n",
    "\n",
    "# Encuentra las filas duplicadas basadas en 'product_id'\n",
    "duplicated_rows_product_id = order_products_df[order_products_df['product_id'].duplicated()]\n",
    "# Selecciona 10 filas aleatorias de los registros duplicados basados en 'product_id'\n",
    "sampled_duplicates_product_id = duplicated_rows_product_id.sample(n=5)\n",
    "\n",
    "print(\"Duplicados basados en 'product_id':\")\n",
    "print(sampled_duplicates_product_id)\n",
    "print()\n",
    "\n",
    "# Elimina duplicados en 'order_id' y 'product_id' y asigna el resultado a order_products_df\n",
    "order_products_df = order_products_df.drop_duplicates(subset=['order_id', 'product_id'])\n",
    "\n",
    "\n",
    "order_products_df.info()\n",
    "\n"
   ]
  },
  {
   "cell_type": "markdown",
   "id": "0b890492",
   "metadata": {
    "id": "0b890492"
   },
   "source": [
    "\n",
    "En teoría, no deberían existir duplicados completos en las filas del DataFrame 'order_products'. Sin embargo, al realizar pruebas específicamente con la columna 'order_id', se encontraron duplicados, lo cual es notable ya que se espera que cada ID sea único. Lo mismo sucede con la columna 'product_id'. Por lo tanto, opté por eliminar los duplicados basados en esta última columna, lo que resultó en la eliminación de varias filas. Aunque la cantidad de filas eliminadas fue relativamente baja en comparación con el tamaño total del DataFrame, este hallazgo es significativo en términos de la integridad de los datos y la consistencia esperada en las IDs de pedidos y productos."
   ]
  },
  {
   "cell_type": "markdown",
   "id": "1e46de76",
   "metadata": {
    "id": "1e46de76"
   },
   "source": [
    "## Encuentra y elimina los valores ausentes\n",
    "\n",
    "Al trabajar con valores duplicados, pudimos observar que también nos falta investigar valores ausentes:\n",
    "\n",
    "* La columna `'product_name'` de la tabla products.\n",
    "* La columna `'days_since_prior_order'` de la tabla orders.\n",
    "* La columna `'add_to_cart_order'` de la tabla order_productos."
   ]
  },
  {
   "cell_type": "markdown",
   "id": "c0aebd78",
   "metadata": {
    "id": "c0aebd78"
   },
   "source": [
    "### `products` data frame"
   ]
  },
  {
   "cell_type": "code",
   "execution_count": 24,
   "id": "fe4a8b0f",
   "metadata": {
    "id": "fe4a8b0f"
   },
   "outputs": [
    {
     "name": "stdout",
     "output_type": "stream",
     "text": [
      "Hay 1258 nombres de productos ausentes\n"
     ]
    }
   ],
   "source": [
    "# Encuentra los valores ausentes en la columna 'product_name'\n",
    "\n",
    "na_products = products_df['product_name'].isna().sum()\n",
    "\n",
    "print('Hay', na_products, 'nombres de productos ausentes')"
   ]
  },
  {
   "cell_type": "markdown",
   "id": "-A6x1AbJhjkp",
   "metadata": {
    "id": "-A6x1AbJhjkp"
   },
   "source": [
    "Hay 1258 valores ausentes en la columna"
   ]
  },
  {
   "cell_type": "code",
   "execution_count": 25,
   "id": "e96167bc",
   "metadata": {
    "id": "e96167bc"
   },
   "outputs": [
    {
     "name": "stdout",
     "output_type": "stream",
     "text": [
      "       product_id product_name  aisle_id  department_id\n",
      "12057       12058          NaN       100             21\n",
      "5306         5307          NaN       100             21\n",
      "27633       27634          NaN       100             21\n",
      "40983       40984          NaN       100             21\n",
      "33264       33265          NaN       100             21\n",
      "30669       30670          NaN       100             21\n",
      "9658         9659          NaN       100             21\n",
      "39170       39171          NaN       100             21\n",
      "21504       21505          NaN       100             21\n",
      "22751       22752          NaN       100             21\n",
      "14794       14795          NaN       100             21\n",
      "12980       12981          NaN       100             21\n",
      "12371       12372          NaN       100             21\n",
      "21480       21481          NaN       100             21\n",
      "29906       29907          NaN       100             21\n"
     ]
    }
   ],
   "source": [
    "#  ¿Todos los nombres de productos ausentes están relacionados con el pasillo con ID 100?\n",
    "print(products_df[products_df['product_name'].isna()].sample(n=15))"
   ]
  },
  {
   "cell_type": "markdown",
   "id": "WRpIfXRphpSL",
   "metadata": {
    "id": "WRpIfXRphpSL"
   },
   "source": [
    "Por lo visto tanto la id del departamento como la id de el pasillo son identicas, '21' y '100' respectivamente, puede ser debido a que un producto en concreto no fue registrado fue comprado 1258 veces"
   ]
  },
  {
   "cell_type": "code",
   "execution_count": 26,
   "id": "8fd0a541",
   "metadata": {
    "id": "8fd0a541"
   },
   "outputs": [
    {
     "name": "stdout",
     "output_type": "stream",
     "text": [
      "5936     21\n",
      "12738    21\n",
      "2979     21\n",
      "19480    21\n",
      "11666    21\n",
      "36386    21\n",
      "3356     21\n",
      "23393    21\n",
      "36171    21\n",
      "6727     21\n",
      "35709    21\n",
      "25249    21\n",
      "11245    21\n",
      "6581     21\n",
      "44793    21\n",
      "Name: department_id, dtype: int64\n"
     ]
    }
   ],
   "source": [
    "# ¿Todos los nombres de productos ausentes están relacionados con el departamento con ID 21?\n",
    "\n",
    "print(products_df['department_id'][products_df['product_name'].isna()].sample(n=15))\n",
    "\n"
   ]
  },
  {
   "cell_type": "markdown",
   "id": "qDpdYn1Fht_I",
   "metadata": {
    "id": "qDpdYn1Fht_I"
   },
   "source": [
    "Efectivamente el id de departamento es 21"
   ]
  },
  {
   "cell_type": "code",
   "execution_count": null,
   "id": "a1758e85",
   "metadata": {},
   "outputs": [],
   "source": []
  },
  {
   "cell_type": "code",
   "execution_count": 27,
   "id": "325c3464",
   "metadata": {
    "id": "325c3464"
   },
   "outputs": [
    {
     "name": "stdout",
     "output_type": "stream",
     "text": [
      "    department_id department\n",
      "20             21    missing\n",
      "\n",
      "    aisle_id    aisle\n",
      "99       100  missing\n"
     ]
    }
   ],
   "source": [
    "# Usa las tablas department y aisle para revisar los datos del pasillo con ID 100 y el departamento con ID 21.\n",
    "\n",
    "filtered_data = departments_df.query('department_id == 21') \n",
    "filtered_data_2 = aisles_df.query('aisle_id == 100') \n",
    "\n",
    "print(filtered_data.head())\n",
    "print()\n",
    "print(filtered_data_2.head())\n"
   ]
  },
  {
   "cell_type": "markdown",
   "id": "nqhSTUPhhvEJ",
   "metadata": {
    "id": "nqhSTUPhhvEJ"
   },
   "source": [
    "En efecto, department_id es un valor no registrado asi como aisle_id, cuando valen '21' y '100' respectivamente "
   ]
  },
  {
   "cell_type": "code",
   "execution_count": 28,
   "id": "6b295120",
   "metadata": {
    "id": "6b295120"
   },
   "outputs": [
    {
     "name": "stdout",
     "output_type": "stream",
     "text": [
      "0\n"
     ]
    }
   ],
   "source": [
    "# Completa los nombres de productos ausentes con 'Unknown'\n",
    "products_df['product_name'] = products_df['product_name'].fillna('Unknown')\n",
    "\n",
    "print(products_df['product_name'].isna().sum())"
   ]
  },
  {
   "cell_type": "markdown",
   "id": "fc70e5ad",
   "metadata": {
    "id": "fc70e5ad"
   },
   "source": [
    "Se cambiaron los valores del producto ausente"
   ]
  },
  {
   "cell_type": "markdown",
   "id": "7eb45c86",
   "metadata": {
    "id": "7eb45c86"
   },
   "source": [
    "### `orders` data frame"
   ]
  },
  {
   "cell_type": "code",
   "execution_count": 29,
   "id": "93e41d96",
   "metadata": {
    "id": "93e41d96"
   },
   "outputs": [
    {
     "data": {
      "text/plain": [
       "order_id                      0\n",
       "user_id                       0\n",
       "order_number                  0\n",
       "order_dow                     0\n",
       "order_hour_of_day             0\n",
       "days_since_prior_order    28817\n",
       "dtype: int64"
      ]
     },
     "execution_count": 29,
     "metadata": {},
     "output_type": "execute_result"
    }
   ],
   "source": [
    "# Encuentra los valores ausentes\n",
    "\n",
    "instacart_orders_df.isna().sum()"
   ]
  },
  {
   "cell_type": "code",
   "execution_count": 30,
   "id": "166e5a86",
   "metadata": {
    "id": "166e5a86"
   },
   "outputs": [
    {
     "data": {
      "text/plain": [
       "order_id                  0\n",
       "user_id                   0\n",
       "order_number              0\n",
       "order_dow                 0\n",
       "order_hour_of_day         0\n",
       "days_since_prior_order    0\n",
       "dtype: int64"
      ]
     },
     "execution_count": 30,
     "metadata": {},
     "output_type": "execute_result"
    }
   ],
   "source": [
    "# ¿Hay algún valor ausente que no sea el primer pedido del cliente?\n",
    "\n",
    "diferente_1er_pedido = instacart_orders_df[instacart_orders_df['order_number'] != 1]\n",
    "\n",
    "diferente_1er_pedido.isna().sum()\n",
    "\n",
    "\n"
   ]
  },
  {
   "cell_type": "markdown",
   "id": "4e23d089",
   "metadata": {
    "id": "4e23d089"
   },
   "source": [
    "\n",
    "Se puede observar que al excluir los primeros pedidos en la columna 'days_since_prior_order', se encuentran 28,817 valores nulos. Esto se debe a que estos valores nulos representan casos donde los clientes han realizado su primera compra. Por lo tanto, no hay un valor previo para estos clientes, lo que resulta en valores nulos en esas filas."
   ]
  },
  {
   "cell_type": "markdown",
   "id": "69dc9ca4",
   "metadata": {
    "id": "69dc9ca4"
   },
   "source": [
    "### `order_products` data frame"
   ]
  },
  {
   "cell_type": "code",
   "execution_count": 31,
   "id": "b8240253",
   "metadata": {
    "id": "b8240253"
   },
   "outputs": [
    {
     "data": {
      "text/plain": [
       "order_id               0\n",
       "product_id             0\n",
       "add_to_cart_order    836\n",
       "reordered              0\n",
       "dtype: int64"
      ]
     },
     "execution_count": 31,
     "metadata": {},
     "output_type": "execute_result"
    }
   ],
   "source": [
    "# Encuentra los valores ausentes\n",
    "\n",
    "order_products_df.isna().sum()"
   ]
  },
  {
   "cell_type": "code",
   "execution_count": 32,
   "id": "9a78e5ee",
   "metadata": {
    "id": "9a78e5ee"
   },
   "outputs": [
    {
     "name": "stdout",
     "output_type": "stream",
     "text": [
      "máximo: \n",
      "64.0\n",
      "\n",
      "minimo: \n",
      "1.0\n",
      "         order_id  product_id  add_to_cart_order  reordered\n",
      "3536441    871281       47087                NaN          1\n",
      "3512834   1386261       27772                NaN          0\n",
      "814253    2926893        1208                NaN          0\n",
      "1463117   1038146       46505                NaN          0\n",
      "4210154   2409109       21795                NaN          0\n",
      "2126292   1730767       24265                NaN          1\n",
      "4063159     61355        1087                NaN          0\n",
      "464703     171934        5652                NaN          0\n",
      "1601892   1800005        7622                NaN          0\n",
      "1151056   2256933       40724                NaN          0\n"
     ]
    }
   ],
   "source": [
    "# ¿Cuáles son los valores mínimos y máximos en esta columna?\n",
    "\n",
    "print('máximo: ')\n",
    "print(order_products_df['add_to_cart_order'].max())\n",
    "print()\n",
    "print('minimo: ')\n",
    "print(order_products_df['add_to_cart_order'].min())\n",
    "\n",
    "\n",
    "print(order_products_df[order_products_df['add_to_cart_order'].isna()].sample(n=10))"
   ]
  },
  {
   "cell_type": "markdown",
   "id": "-Z2Ja215jW78",
   "metadata": {
    "id": "-Z2Ja215jW78"
   },
   "source": [
    "Observo que hay un registro incompleto de datos puesto que no encuentro alguna relacion entra las filas con NaN en la columna 'add_to_card_order' "
   ]
  },
  {
   "cell_type": "code",
   "execution_count": 33,
   "id": "ab9d0c2b",
   "metadata": {
    "id": "ab9d0c2b"
   },
   "outputs": [
    {
     "name": "stdout",
     "output_type": "stream",
     "text": [
      "[2449164, 1968313, 2926893, 1717990, 1959075, 844733, 61355, 936852, 264710, 1717990, 1564093, 129627, 264710, 293169, 2849370, 1386261, 3308010, 903110, 2136777, 3347453, 1888628, 165801, 2449164, 2094761, 3347453, 1038146, 2136777, 2997021, 844733, 844733, 2136777, 813364, 165801, 2256933, 171934, 264710, 2449164, 2409109, 3347453, 813364, 2926893, 936852, 1730767, 1169835, 733526, 844733, 293169, 61355, 903110, 1968313, 733526, 2136777, 2926893, 404157, 1386261, 171934, 3125735, 747668, 3308010, 1169835, 1800005, 1961723, 936852, 2849370, 3308010, 61355, 871281, 1717990, 813364, 388234, 61355, 3125735, 1959075, 61355, 3125735, 1648217, 171934, 3125735, 61355, 1477139, 1959075, 1717990, 1717990, 61355, 1717990, 171934, 1038146, 3308010, 3347453, 102236, 936852, 171934, 1730767, 2926893, 1021563, 1832957, 1959075, 2256933, 1968313, 2721963, 293169, 102236, 3125735, 1959075, 264710, 678116, 1220886, 1386261, 171934, 1959075, 61355, 3308010, 61355, 102236, 388234, 171934, 3308010, 1961723, 2721963, 3308010, 1564093, 264710, 404157, 1673227, 813364, 2094761, 844733, 1386261, 1959075, 3125735, 61355, 102236, 3308010, 1386261, 936852, 2999801, 1038146, 1888628, 813364, 1800005, 1968313, 3308010, 2449164, 388234, 3125735, 102236, 903110, 1832957, 102236, 3308010, 2926893, 388234, 1800005, 2094761, 2721963, 844733, 2136777, 2926893, 813364, 2136777, 1673227, 1633337, 1021563, 102236, 1800005, 1477139, 2470674, 1220886, 2470674, 1648217, 264710, 1832957, 2721963, 2849370, 2625444, 871281, 1717990, 1220886, 1677118, 1730767, 1730767, 678116, 102236, 2136777, 61355, 2136777, 903110, 844733, 2849370, 1832957, 1730767, 2479011, 3383594, 61355, 1832957, 1021563, 1021563, 1959075, 1832957, 813364, 61355, 61355, 2926893, 1959075, 1648217, 2136777, 264710, 1800005, 2094761, 2926893, 1959075, 264710, 61355, 3308010, 2256933, 936852, 3308010, 1038146, 1183255, 2256933, 1832957, 1386261, 1713430, 1730767, 2136777, 3308010, 1717990, 171934, 1968313, 1717990, 2136777, 1648217, 1968313, 2652650, 733526, 1673227, 2849370, 61355, 3308010, 1169835, 3308010, 171934, 2999801, 1717990, 1386261, 936852, 1968313, 1713430, 1800005, 2136777, 264710, 264710, 2926893, 165801, 1598369, 2997021, 1730767, 61355, 1916118, 1730767, 3308010, 2479011, 2449164, 61355, 3125735, 2094761, 1888628, 3125735, 264710, 171934, 1800005, 1038146, 1959075, 102236, 3308010, 1386261, 1800005, 2470674, 2926893, 2470674, 102236, 3308010, 1717990, 903110, 2997021, 129627, 3383594, 3308010, 1386261, 854647, 102236, 1038146, 3308010, 936852, 264710, 264710, 1800005, 61355, 1220886, 2136777, 293169, 1800005, 1888628, 813364, 2136777, 61355, 1730767, 1021563, 2721963, 1730767, 1564093, 3308010, 2849370, 3308010, 1302315, 1888628, 61355, 1959075, 61355, 2136777, 733526, 3308010, 1730767, 1183255, 264710, 1730767, 678116, 2721963, 2136777, 3308010, 2721963, 2409109, 871281, 171934, 678116, 2849370, 813364, 3125735, 1730767, 61355, 2999801, 1648217, 936852, 3125735, 61355, 2849370, 1220886, 1959075, 2256933, 171934, 2926893, 2926893, 404157, 2136777, 3308010, 1021563, 404157, 171934, 61355, 2094761, 1832957, 293169, 813364, 293169, 3125735, 1021563, 1800005, 3308010, 936852, 264710, 171934, 888470, 1673227, 871281, 1800005, 3308010, 1730767, 180546, 2621907, 1730767, 936852, 1959075, 1169835, 1730767, 2926893, 854647, 2449164, 3308010, 2470674, 1183255, 61355, 1386261, 903110, 2094761, 903110, 264710, 1648217, 293169, 2479011, 1730767, 1730767, 2926893, 61355, 3125735, 1959075, 2409109, 2926893, 1021563, 1386261, 3308010, 2926893, 1800005, 61355, 2449164, 102236, 3308010, 1308785, 1800005, 2926893, 61355, 2136777, 1717990, 3308010, 1730767, 871281, 1673227, 102236, 2136777, 1717990, 813364, 1800005, 1959075, 813364, 165801, 2136777, 2729254, 1673227, 1961723, 61355, 1183255, 2136777, 1302315, 1386261, 2849370, 171934, 2136777, 3308010, 733526, 1959075, 9310, 813364, 2170451, 1800005, 404157, 871281, 3125735, 2721963, 404157, 129627, 678116, 2926893, 264710, 2256933, 102236, 102236, 1021563, 264710, 2926893, 936852, 102236, 1968313, 936852, 293169, 2136777, 2136777, 61355, 1183255, 1730767, 1800005, 2479011, 1386261, 1800005, 1673227, 3308010, 2926893, 2926893, 61355, 1832957, 1717990, 813364, 2999801, 264710, 3308010, 3347453, 3308010, 936852, 813364, 404157, 171934, 903110, 871281, 102236, 61355, 813364, 102236, 3308010, 1800005, 1832957, 2479011, 171934, 171934, 844733, 3308010, 171934, 1800005, 404157, 1673227, 3383594, 3308010, 2136777, 102236, 1717990, 2094761, 102236, 1959075, 171934, 2136777, 1386261, 2136777, 2449164, 171934, 3308010, 1220886, 2136777, 1959075, 2136777, 171934, 936852, 3308010, 2470674, 871281, 2721963, 102236, 61355, 3125735, 3308010, 1386261, 1717990, 293169, 61355, 1386261, 2721963, 2136777, 1888628, 264710, 1564093, 2136777, 1730767, 2849370, 2721963, 293169, 264710, 2721963, 3125735, 1959075, 404157, 171934, 61355, 1959075, 871281, 61355, 1183255, 1673227, 2849370, 1477139, 1730767, 903110, 844733, 3308010, 1673227, 61355, 171934, 2926893, 2926893, 1959075, 2479011, 3347453, 2721963, 2625444, 171934, 813364, 102236, 61355, 844733, 2721963, 1302315, 813364, 61355, 2926893, 1968313, 1968313, 264710, 1717990, 1730767, 2136777, 2721963, 2136777, 2721963, 171934, 171934, 2979697, 1730767, 1888628, 1625713, 2136777, 1800005, 2094761, 1961723, 1564093, 1959075, 1916118, 61355, 2997021, 293169, 3308010, 1529171, 61355, 2256933, 1959075, 2449164, 1673227, 2479011, 1888628, 1800005, 2470674, 1386261, 3125735, 2721963, 2926893, 1800005, 1386261, 2136777, 61355, 171934, 3308010, 61355, 936852, 61355, 936852, 293169, 1386261, 171934, 1800005, 871281, 3125735, 61355, 1959075, 1968313, 1717990, 3308010, 844733, 129627, 844733, 264710, 165801, 1386261, 2136777, 2721963, 1730767, 3125735, 2136777, 1183255, 171934, 936852, 854647, 1386261, 2926893, 1961723, 61355, 1730767, 1633337, 61355, 1959075, 102236, 404157, 1968313, 1386261, 2136777, 2999801, 1529171, 2721963, 61355, 3383594, 1730767, 936852, 2926893, 102236, 1959075, 102236, 1713430, 3383594, 102236, 1959075, 678116, 2449164, 844733, 61355, 3308010, 61355, 2136777, 264710, 171934, 813364, 3308010, 1730767, 61355, 102236, 61355, 1717990, 3308010, 1968313, 129627, 936852, 61355, 61355, 165801, 2409109, 2926893, 61355, 1961723, 1832957, 1961723, 1183255, 61355, 2999801, 1220886, 3125735, 171934, 388234, 102236, 102236, 61355, 2721963, 1800005, 1968313, 2136777, 61355, 1220886, 61355, 936852, 1673227, 936852, 1673227, 1625713, 171934, 2136777, 1800005, 1730767, 264710, 102236, 61355, 903110, 2136777, 1959075, 3125735, 171934, 1169835, 3308010, 61355, 1959075, 2721963, 813364, 1477139, 1888628, 1730767, 1959075, 2479011, 3308010, 2721963, 1717990, 2409109, 171934, 171934, 1183255, 1800005, 171934, 2136777, 388234, 264710, 61355, 1730767, 1717990, 1916118, 264710, 3125735, 1959075, 813364, 3347453, 293169, 171934, 1386261, 1183255, 1717990, 1308785, 2625444, 171934, 102236, 1386261, 1968313, 1386261, 404157, 1959075, 1832957, 1961723, 936852, 1386261, 2449164, 171934, 1959075, 2449164, 180546, 1183255, 1386261, 1968313, 2136777, 3308010, 2479011, 2979697, 1888628, 1832957, 1961723, 1800005, 1633337, 404157, 1673227, 1832957]\n"
     ]
    }
   ],
   "source": [
    "# Guarda todas las IDs de pedidos que tengan un valor ausente en 'add_to_cart_order'\n",
    "\n",
    "id_nas = order_products_df[order_products_df['add_to_cart_order'].isna()]['order_id']\n",
    "\n",
    "ids_pedidos_con_na_lista = id_nas.tolist()\n",
    "print(ids_pedidos_con_na_lista)\n"
   ]
  },
  {
   "cell_type": "code",
   "execution_count": 34,
   "id": "54c31695",
   "metadata": {
    "id": "54c31695"
   },
   "outputs": [
    {
     "name": "stdout",
     "output_type": "stream",
     "text": [
      "order_id\n",
      "9310        65\n",
      "61355      127\n",
      "102236      95\n",
      "129627      69\n",
      "165801      70\n",
      "          ... \n",
      "2999801     70\n",
      "3125735     86\n",
      "3308010    115\n",
      "3347453     71\n",
      "3383594     69\n",
      "Name: product_id, Length: 70, dtype: int64\n",
      "\n",
      "65\n"
     ]
    }
   ],
   "source": [
    "# ¿Todos los pedidos con valores ausentes tienen más de 64 productos?\n",
    "# Verificar si todos los pedidos con valores ausentes tienen más de 64 productos\n",
    "# Agrupa todos los pedidos con datos ausentes por su ID de pedido.\n",
    "# Cuenta el número de 'product_id' en cada pedido y revisa el valor mínimo del conteo.\n",
    "\n",
    "\n",
    "filtro = order_products_df[order_products_df['order_id'].isin(ids_pedidos_con_na_lista)]\n",
    "\n",
    "filtro_64 = filtro.groupby('order_id')['product_id'].count()\n",
    "\n",
    "print(filtro_64)\n",
    "print()\n",
    "print(filtro_64.min())\n"
   ]
  },
  {
   "cell_type": "markdown",
   "id": "p9V6pddtjglj",
   "metadata": {
    "id": "p9V6pddtjglj"
   },
   "source": [
    "Se descubrio que el numero de productos siempre es superior a 65 para las filas que tienen 'NaN' en sus columnas 'add_to_cart_order'"
   ]
  },
  {
   "cell_type": "code",
   "execution_count": 35,
   "id": "7a987d08",
   "metadata": {
    "id": "7a987d08"
   },
   "outputs": [
    {
     "name": "stdout",
     "output_type": "stream",
     "text": [
      "         order_id  product_id  add_to_cart_order  reordered\n",
      "0         2141543       11440                 17          0\n",
      "1          567889        1560                  1          1\n",
      "2         2261212       26683                  1          1\n",
      "3          491251        8670                 35          1\n",
      "4         2571142        1940                  5          1\n",
      "...           ...         ...                ...        ...\n",
      "4545002    577211       15290                 12          1\n",
      "4545003   1219554       21914                  9          0\n",
      "4545004    692640       47766                  4          1\n",
      "4545005    319435         691                  8          1\n",
      "4545006   1398151       28733                  9          0\n",
      "\n",
      "[4545007 rows x 4 columns]\n"
     ]
    },
    {
     "name": "stderr",
     "output_type": "stream",
     "text": [
      "C:\\Users\\evolu_s6am3bc\\AppData\\Local\\Temp\\ipykernel_2076\\2037129373.py:3: FutureWarning: A value is trying to be set on a copy of a DataFrame or Series through chained assignment using an inplace method.\n",
      "The behavior will change in pandas 3.0. This inplace method will never work because the intermediate object on which we are setting values always behaves as a copy.\n",
      "\n",
      "For example, when doing 'df[col].method(value, inplace=True)', try using 'df.method({col: value}, inplace=True)' or df[col] = df[col].method(value) instead, to perform the operation inplace on the original object.\n",
      "\n",
      "\n",
      "  order_products_df['add_to_cart_order'].fillna(999, inplace=True)\n"
     ]
    }
   ],
   "source": [
    "# Remplaza los valores ausentes en la columna 'add_to_cart? con 999 y convierte la columna al tipo entero.\n",
    "\n",
    "order_products_df['add_to_cart_order'].fillna(999, inplace=True)\n",
    "\n",
    "order_products_df['add_to_cart_order'] = order_products_df['add_to_cart_order'].astype('int')\n",
    "\n",
    "print(order_products_df)\n"
   ]
  },
  {
   "cell_type": "markdown",
   "id": "fea4bcc7",
   "metadata": {
    "id": "fea4bcc7"
   },
   "source": [
    "use fillna() para rellenar los na con 999 ademas de astype() para cambiar el tipo de dato de float a int y por ultimo imprimi. Ya no hay datos NaN en la columna"
   ]
  },
  {
   "cell_type": "markdown",
   "id": "RnplPFY1gSrb",
   "metadata": {
    "id": "RnplPFY1gSrb"
   },
   "source": [
    "## Conclusiones\n",
    "\n",
    "## Conclusiones Intermedias - Paso 2: Preprocesamiento de los Datos\n",
    "\n",
    "1. **Valores Ausentes:**\n",
    "   - Se encontraron valores ausentes en las columnas `'days_since_prior_order'` y `'add_to_cart_order'`.\n",
    "   - Los valores nulos en `'days_since_prior_order'` corresponden a los primeros pedidos de cada cliente, lo que indica que son nuevos en la plataforma.\n",
    "   - Los valores nulos en `'add_to_cart_order'` parecen corresponder a pedidos con más de 64 productos.\n",
    "\n",
    "2. **Duplicados:**\n",
    "   - Se identificaron pedidos duplicados en el DataFrame `instacart_orders_df`.\n",
    "   - En `'order_products'` se eliminaron duplicados en 'order_id' y 'product_id'\n",
    "\n",
    "3. **Tipo de Datos:**\n",
    "   - Se convirtió la columna `'add_to_cart_order'` de tipo float a tipo int para facilitar el análisis.\n",
    "\n",
    "4. **Problemas de Formato:**\n",
    "   - Se rellenaron los valores nulos en la columna `'product_name'` del DataFrame `products_df` con 'Unknown'.\n",
    "\n",
    "\n",
    "\n",
    "\n",
    "\n"
   ]
  },
  {
   "cell_type": "code",
   "execution_count": null,
   "id": "f7f0220b",
   "metadata": {},
   "outputs": [],
   "source": []
  },
  {
   "cell_type": "markdown",
   "id": "UjrOIwTcz3ri",
   "metadata": {
    "id": "UjrOIwTcz3ri"
   },
   "source": [
    "# Paso 3. Análisis de los datos\n",
    "\n",
    "Una vez los datos estén procesados y listos, haz el siguiente análisis:"
   ]
  },
  {
   "cell_type": "markdown",
   "id": "turkish-kidney",
   "metadata": {
    "id": "turkish-kidney"
   },
   "source": [
    "# [A] Fácil (deben completarse todos para aprobar)\n",
    "\n",
    "1. Verifica que los valores en las columnas `'order_hour_of_day'` y `'order_dow'` en la tabla orders sean razonables (es decir, `'order_hour_of_day'` oscile entre 0 y 23 y `'order_dow'` oscile entre 0 y 6).\n",
    "2. Crea un gráfico que muestre el número de personas que hacen pedidos dependiendo de la hora del día.\n",
    "3. Crea un gráfico que muestre qué día de la semana la gente hace sus compras.\n",
    "4. Crea un gráfico que muestre el tiempo que la gente espera hasta hacer su siguiente pedido, y comenta sobre los valores mínimos y máximos."
   ]
  },
  {
   "cell_type": "markdown",
   "id": "short-capability",
   "metadata": {
    "id": "short-capability"
   },
   "source": [
    "### [A1] Verifica que los valores sean sensibles"
   ]
  },
  {
   "cell_type": "code",
   "execution_count": 36,
   "id": "growing-fruit",
   "metadata": {
    "id": "growing-fruit"
   },
   "outputs": [
    {
     "name": "stdout",
     "output_type": "stream",
     "text": [
      "\n",
      "Si esta en el rango apropiado\n"
     ]
    }
   ],
   "source": [
    "# 1\n",
    "check_1 = instacart_orders_df['order_hour_of_day'].max() #Chqueo de la primera columna\n",
    "print()\n",
    "check_2 = instacart_orders_df['order_hour_of_day'].min() \n",
    "\n",
    "if check_1 == 23 and check_2 == 0:\n",
    "    print('Si esta en el rango apropiado')\n",
    "else:\n",
    "    print('No esta en el rango apropiado')\n"
   ]
  },
  {
   "cell_type": "code",
   "execution_count": 37,
   "id": "accessory-malaysia",
   "metadata": {
    "id": "accessory-malaysia"
   },
   "outputs": [
    {
     "name": "stdout",
     "output_type": "stream",
     "text": [
      "\n",
      "Si esta en el rango apropiado\n"
     ]
    }
   ],
   "source": [
    "#Chqueo de la segunda columna\n",
    "check_1 = instacart_orders_df['order_dow'].max() \n",
    "print()\n",
    "check_2 = instacart_orders_df['order_dow'].min()\n",
    "\n",
    "if check_1 == 6 and check_2 == 0:\n",
    "    print('Si esta en el rango apropiado')\n",
    "else:\n",
    "    print('No esta en el rango apropiado')"
   ]
  },
  {
   "cell_type": "markdown",
   "id": "hmR2GNQ6lCsX",
   "metadata": {
    "id": "hmR2GNQ6lCsX"
   },
   "source": [
    "Escribe aquí tus conclusiones"
   ]
  },
  {
   "cell_type": "markdown",
   "id": "a6743a70",
   "metadata": {
    "id": "a6743a70"
   },
   "source": [
    "### [A2] Para cada hora del día, ¿cuántas personas hacen órdenes?"
   ]
  },
  {
   "cell_type": "code",
   "execution_count": 38,
   "id": "a36cca27",
   "metadata": {
    "id": "a36cca27"
   },
   "outputs": [
    {
     "data": {
      "image/png": "[encoded data removed]",
      "text/plain": [
       "<Figure size 1000x600 with 1 Axes>"
      ]
     },
     "metadata": {},
     "output_type": "display_data"
    }
   ],
   "source": [
    "# 2\n",
    "# X = 'order_hour_of_day'\n",
    "# Y = 'user_id'\n",
    "x_value = instacart_orders_df['order_hour_of_day'].unique()\n",
    "x_value_sorted = sorted(x_value)\n",
    "\n",
    "\n",
    "y_value = instacart_orders_df.groupby('order_hour_of_day')['user_id'].nunique()\n",
    "value_y_list = y_value.tolist()\n",
    "\n",
    "\n",
    "plt.figure(figsize=(10, 6))  # Tamaño del gráfico\n",
    "plt.plot(x_value_sorted, value_y_list, marker='o', linestyle='-', color='b')  # Estilo de línea y marcadores\n",
    "plt.xlabel('Hora del día')  # Etiqueta del eje x\n",
    "plt.ylabel('Número de usuarios únicos')  # Etiqueta del eje y\n",
    "plt.title('Usuarios únicos por hora del día')  # Título del gráfico\n",
    "plt.grid(True)  # Activar cuadrícula\n",
    "plt.xticks(range(24))  # Definir los valores del eje x como las 24 horas del día\n",
    "plt.tight_layout()  # Ajustar el diseño para que se ajuste correctamente\n",
    "plt.show()"
   ]
  },
  {
   "cell_type": "markdown",
   "id": "11270eed",
   "metadata": {
    "id": "11270eed"
   },
   "source": [
    "\n",
    "Basándonos en los datos disponibles, podemos observar que entre las 10 y las 16 horas es la hora pico de clientes únicos. También se aprecia un aumento significativo en la captación de clientes a partir de las 5 horas. Sin embargo, a las 17 horas comienza a ocurrir lo contrario, con una disminución en la afluencia de clientes."
   ]
  },
  {
   "cell_type": "markdown",
   "id": "documented-command",
   "metadata": {
    "id": "documented-command"
   },
   "source": [
    "### [A3] ¿Qué día de la semana compran víveres las personas?"
   ]
  },
  {
   "cell_type": "code",
   "execution_count": 39,
   "id": "chief-digit",
   "metadata": {
    "id": "chief-digit"
   },
   "outputs": [
    {
     "data": {
      "image/png": "[encoded data removed]",
      "text/plain": [
       "<Figure size 1000x600 with 1 Axes>"
      ]
     },
     "metadata": {},
     "output_type": "display_data"
    }
   ],
   "source": [
    "# x = 'order_dow'\n",
    "\n",
    "instacart_orders_df['order_dow'].value_counts().sort_index().plot(kind='bar', figsize=(10, 6))\n",
    "\n",
    "plt.xlabel('Día de la semana')\n",
    "plt.title('Número de compras por día de la semana')\n",
    "plt.ylabel('Número de compras')\n",
    "\n",
    "#Colocar dias de las semana es los valores del eje x\n",
    "dias_semana = ['Domingo', 'Lunes', 'Martes', 'Miércoles', 'Jueves', 'Viernes', 'Sábado']\n",
    "plt.xticks(range(7), dias_semana, rotation=45)\n",
    "plt.show()"
   ]
  },
  {
   "cell_type": "markdown",
   "id": "dominant-lightning",
   "metadata": {
    "id": "dominant-lightning"
   },
   "source": [
    "Al parecer el día Domingo es cuando mas numero de compras hay y progresivamente se va estabilizando de mas 80,000 compras a alrededor de 60,000 compras los días posteriores"
   ]
  },
  {
   "cell_type": "markdown",
   "id": "cutting-concert",
   "metadata": {
    "id": "cutting-concert"
   },
   "source": [
    "### [A4] ¿Cuánto tiempo esperan las personas hasta hacer otro pedido? Comenta sobre los valores mínimos y máximos."
   ]
  },
  {
   "cell_type": "code",
   "execution_count": 40,
   "id": "c231f523",
   "metadata": {
    "id": "c231f523"
   },
   "outputs": [
    {
     "name": "stdout",
     "output_type": "stream",
     "text": [
      "Valor mínimo de días entre pedidos: 0.0\n",
      "\n",
      "Valor máximo de días entre pedidos: 30.0\n"
     ]
    },
    {
     "data": {
      "image/png": "[encoded data removed]",
      "text/plain": [
       "<Figure size 640x480 with 1 Axes>"
      ]
     },
     "metadata": {},
     "output_type": "display_data"
    }
   ],
   "source": [
    "plt.hist(instacart_orders_df['days_since_prior_order']  , bins=30, color='skyblue', edgecolor='black')\n",
    "\n",
    "\n",
    "plt.xlabel('Días transcurridos entre pedidos consecutivos')\n",
    "plt.ylabel('Frecuencia')\n",
    "plt.title('Distribución del tiempo entre pedidos')\n",
    "\n",
    "min_days_since_prior_order = instacart_orders_df['days_since_prior_order'].min()\n",
    "max_days_since_prior_order = instacart_orders_df['days_since_prior_order'].max()\n",
    "\n",
    "print(\"Valor mínimo de días entre pedidos:\", min_days_since_prior_order)\n",
    "print()\n",
    "print(\"Valor máximo de días entre pedidos:\", max_days_since_prior_order)\n",
    "\n",
    "plt.show()\n"
   ]
  },
  {
   "cell_type": "markdown",
   "id": "discrete-vertex",
   "metadata": {
    "id": "discrete-vertex"
   },
   "source": [
    "\n",
    "Parece que el día más recurrente para volver a hacer la compra es el día 30. Esto podría deberse al corte de crédito, ya que se observa que la frecuencia de compra disminuye progresivamente los primeros días después de una compra específica, especialmente a partir del día 8. Esta tendencia podría explicarse por la proximidad de la fecha de corte de la tarjeta de crédito."
   ]
  },
  {
   "cell_type": "markdown",
   "id": "tight-staff",
   "metadata": {
    "id": "tight-staff"
   },
   "source": [
    "# [B] Intermedio (deben completarse todos para aprobar)\n",
    "\n",
    "1. ¿Existe alguna diferencia entre las distribuciones `'order_hour_of_day'` de los miércoles y los sábados? Traza gráficos de barra de `'order_hour_of_day'` para ambos días en la misma figura y describe las diferencias que observes.\n",
    "2. Grafica la distribución para el número de órdenes que hacen los clientes (es decir, cuántos clientes hicieron solo 1 pedido, cuántos hicieron 2, cuántos 3, y así sucesivamente...).\n",
    "3. ¿Cuáles son los 20 principales productos que se piden con más frecuencia (muestra su identificación y nombre)?"
   ]
  },
  {
   "cell_type": "markdown",
   "id": "packed-classic",
   "metadata": {
    "id": "packed-classic"
   },
   "source": [
    "### [B1] Diferencia entre miércoles y sábados para  `'order_hour_of_day'`. Traza gráficos de barra para los dos días y describe las diferencias que veas."
   ]
  },
  {
   "cell_type": "code",
   "execution_count": 41,
   "id": "d89b8403",
   "metadata": {
    "id": "d89b8403"
   },
   "outputs": [
    {
     "data": {
      "image/png": "[encoded data removed]",
      "text/plain": [
       "<Figure size 640x480 with 1 Axes>"
      ]
     },
     "metadata": {},
     "output_type": "display_data"
    }
   ],
   "source": [
    "#Miercoles numero de compras a lo largo de todos el dia \n",
    "\n",
    "wednesday_orders = instacart_orders_df[instacart_orders_df['order_dow'] == 3]\n",
    "saturday_orders = instacart_orders_df[instacart_orders_df['order_dow'] == 6]\n",
    "\n",
    "\n",
    "wednesday_hours = wednesday_orders['order_hour_of_day']\n",
    "saturday_hours = saturday_orders['order_hour_of_day']\n",
    "\n",
    "# Crear histogramas\n",
    "plt.hist(wednesday_hours, bins=24, alpha=0.7, color='blue', label='Miércoles', edgecolor='black')\n",
    "plt.hist(saturday_hours, bins=24, alpha=0.7, color='green', label='Sábado', edgecolor='black')\n",
    "\n",
    "\n",
    "plt.grid(True, linestyle='--', alpha=0.5)\n",
    "plt.xticks(range(24), fontsize=8) \n",
    "plt.xlabel('Hora del día')\n",
    "plt.ylabel('Número de pedidos')\n",
    "plt.title('Histograma de pedidos por hora del día (Miércoles vs Sábado)')\n",
    "plt.legend()\n",
    "\n",
    "# Mostrar el gráfico\n",
    "plt.show()\n"
   ]
  },
  {
   "cell_type": "markdown",
   "id": "charitable-congo",
   "metadata": {
    "id": "charitable-congo"
   },
   "source": [
    "Parece que hay una diferencia significativa en el comportamiento de las compras entre los días miércoles y sábado, especialmente en el intervalo entre las 12 y las 15 horas. Mientras que el sábado muestra una distribución más constante durante ese período, el miércoles exhibe una curva invertida, lo que sugiere una disminución en las compras durante esas horas en comparación con el resto del día."
   ]
  },
  {
   "cell_type": "markdown",
   "id": "e3891143",
   "metadata": {
    "id": "e3891143"
   },
   "source": [
    "### [B2] ¿Cuál es la distribución para el número de pedidos por cliente?"
   ]
  },
  {
   "cell_type": "code",
   "execution_count": 42,
   "id": "d8c26c23",
   "metadata": {
    "id": "d8c26c23"
   },
   "outputs": [
    {
     "data": {
      "image/png": "[encoded data removed]",
      "text/plain": [
       "<Figure size 640x480 with 1 Axes>"
      ]
     },
     "metadata": {},
     "output_type": "display_data"
    }
   ],
   "source": [
    "\n",
    "\n",
    "orders_num = instacart_orders_df['order_number']\n",
    "\n",
    "plt.hist(orders_num, bins=100, edgecolor='black')\n",
    "\n",
    "plt.xlabel('Número de pedidos')\n",
    "plt.ylabel('Frecuencia')\n",
    "plt.title('Distribución para el numero de pedidos por cliente')\n",
    "\n",
    "plt.show()"
   ]
  },
  {
   "cell_type": "markdown",
   "id": "d2eff7d5",
   "metadata": {
    "id": "d2eff7d5"
   },
   "source": [
    "Se observa que 1 a 4 pedidos es lo mas común, a partir de los 5 pedidos comienza a decender la frecuencia en la que se piden esa cantidad de pedidos"
   ]
  },
  {
   "cell_type": "markdown",
   "id": "54a0319c",
   "metadata": {
    "id": "54a0319c"
   },
   "source": [
    "### [B3] ¿Cuáles son los 20 productos más populares (muestra su ID y nombre)?"
   ]
  },
  {
   "cell_type": "code",
   "execution_count": 43,
   "id": "exterior-arizona",
   "metadata": {
    "id": "exterior-arizona",
    "scrolled": true
   },
   "outputs": [
    {
     "name": "stdout",
     "output_type": "stream",
     "text": [
      "20 productos mas populares:\n",
      "\n",
      "    product_id              product_name\n",
      "1         5876             Organic Lemon\n",
      "2         8277  Apple Honeycrisp Organic\n",
      "3        13176    Bag of Organic Bananas\n",
      "4        16797              Strawberries\n",
      "5        21137      Organic Strawberries\n",
      "6        21903      Organic Baby Spinach\n",
      "7        22935      Organic Yellow Onion\n",
      "8        24852                    Banana\n",
      "9        24964            Organic Garlic\n",
      "10       26209                     Limes\n",
      "11       27845        Organic Whole Milk\n",
      "12       27966       Organic Raspberries\n",
      "13       28204        Organic Fuji Apple\n",
      "14       39275       Organic Blueberries\n",
      "15       40706    Organic Grape Tomatoes\n",
      "16       45007          Organic Zucchini\n",
      "17       47209      Organic Hass Avocado\n",
      "18       47626               Large Lemon\n",
      "19       47766           Organic Avocado\n",
      "20       49683            Cucumber Kirby\n"
     ]
    }
   ],
   "source": [
    "\n",
    "product_count = order_products_df['product_id'].value_counts()\n",
    "\n",
    "product_id_list = product_count.index.tolist()\n",
    "\n",
    "product_id_list_popular = product_id_list[:20]\n",
    "\n",
    "nombres_popular = products_df[products_df['product_id'].isin(product_id_list_popular)]\n",
    "\n",
    "nombres_id_popular = nombres_popular[['product_id', 'product_name']]\n",
    "nombres_id_popular.index = range(1, 21)\n",
    "\n",
    "print('20 productos mas populares:')\n",
    "print()\n",
    "print(nombres_id_popular)"
   ]
  },
  {
   "cell_type": "markdown",
   "id": "7df00f47",
   "metadata": {
    "id": "7df00f47"
   },
   "source": [
    "Usando el df order_products ordene los datos y saque las id de los 20 productos mas comprados para posteriormente ponerlos en una lista, después hice un df basado en el products_df para que unicamente las filas en las que estuviesen los id's que estaban en la lista con isin(), por ultimo imprimí de ese df el nombre y la id de los 20 mas populares y quite el indice del df de donde se extrajo"
   ]
  },
  {
   "cell_type": "markdown",
   "id": "gross-theme",
   "metadata": {
    "id": "gross-theme"
   },
   "source": [
    "# [C] Difícil (deben completarse todos para aprobar)\n",
    "\n",
    "1. ¿Cuántos artículos suelen comprar las personas en un pedido? ¿Cómo es la distribución?\n",
    "2. ¿Cuáles son los 20 principales artículos que vuelven a pedirse con mayor frecuencia (muestra sus nombres e IDs de los productos)?\n",
    "3. Para cada producto, ¿cuál es la tasa de repetición del pedido (número de repeticiones de pedido/total de pedidos?\n",
    "4. Para cada cliente, ¿qué proporción de los productos que pidió ya los había pedido? Calcula la tasa de repetición de pedido para cada usuario en lugar de para cada producto.\n",
    "5. ¿Cuáles son los 20 principales artículos que la gente pone primero en sus carritos (muestra las IDs de los productos, sus nombres, y el número de veces en que fueron el primer artículo en añadirse al carrito)?"
   ]
  },
  {
   "cell_type": "markdown",
   "id": "romantic-deposit",
   "metadata": {
    "id": "romantic-deposit"
   },
   "source": [
    "### [C1] ¿Cuántos artículos compran normalmente las personas en un pedido? ¿Cómo es la distribución?"
   ]
  },
  {
   "cell_type": "code",
   "execution_count": 58,
   "id": "virtual-punch",
   "metadata": {
    "id": "virtual-punch"
   },
   "outputs": [
    {
     "data": {
      "image/png": "[encoded data removed]",
      "text/plain": [
       "<Figure size 1000x600 with 1 Axes>"
      ]
     },
     "metadata": {},
     "output_type": "display_data"
    },
    {
     "name": "stdout",
     "output_type": "stream",
     "text": [
      "El promedio por pedido es:  10.098983215049127 articulos\n"
     ]
    }
   ],
   "source": [
    "num_articulos_por_pedido = order_products_df.groupby('order_id')['product_id'].count()\n",
    "promedio_articulos_por_pedido = num_articulos_por_pedido.mean()\n",
    "\n",
    "plt.figure(figsize=(10, 6))\n",
    "plt.hist(num_articulos_por_pedido, bins=120, edgecolor='black')\n",
    "plt.axvline(promedio_articulos_por_pedido, color='red', linestyle='dashed', linewidth=1, label='Promedio')\n",
    "plt.xlabel('Número de artículos por pedido')\n",
    "plt.ylabel('Frecuencia')\n",
    "plt.title('Distribución del número de artículos por pedido')\n",
    "plt.legend()\n",
    "plt.grid(True)\n",
    "plt.show()\n",
    "\n",
    "print('El promedio por pedido es: ', promedio_articulos_por_pedido, 'articulos')\n",
    "\n"
   ]
  },
  {
   "cell_type": "markdown",
   "id": "designed-mortality",
   "metadata": {
    "id": "designed-mortality"
   },
   "source": [
    "Normalmente el cliente suele comprar 10 artículos por pedido"
   ]
  },
  {
   "cell_type": "markdown",
   "id": "5e6b5537",
   "metadata": {
    "id": "5e6b5537"
   },
   "source": [
    "### [C2] ¿Cuáles son los 20 principales artículos que vuelven a pedirse con mayor frecuencia (muestra sus nombres e IDs de los productos)?"
   ]
  },
  {
   "cell_type": "code",
   "execution_count": 82,
   "id": "9374e55a",
   "metadata": {
    "id": "9374e55a"
   },
   "outputs": [
    {
     "name": "stdout",
     "output_type": "stream",
     "text": [
      "product_id\n",
      "24852               Organic Lemon\n",
      "13176    Apple Honeycrisp Organic\n",
      "21137      Bag of Organic Bananas\n",
      "21903                Strawberries\n",
      "47209        Organic Strawberries\n",
      "47766        Organic Baby Spinach\n",
      "27845        Organic Yellow Onion\n",
      "47626                      Banana\n",
      "27966              Organic Garlic\n",
      "16797                       Limes\n",
      "26209          Organic Whole Milk\n",
      "22935         Organic Raspberries\n",
      "24964          Organic Fuji Apple\n",
      "45007         Organic Blueberries\n",
      "49683            Organic Zucchini\n",
      "28204        Organic Hass Avocado\n",
      "8277                  Large Lemon\n",
      "39275             Organic Avocado\n",
      "5876          Organic Half & Half\n",
      "49235              Cucumber Kirby\n",
      "Name: product_name, dtype: object\n"
     ]
    }
   ],
   "source": [
    "\n",
    "id_products_reordenados = order_products_df[order_products_df['reordered'] == 1]\n",
    "\n",
    "id_principales = id_products_reordenados['product_id'].value_counts()\n",
    "\n",
    "id_20_principales = id_principales.index.tolist()[:20]\n",
    "\n",
    "producs_id = products_df[products_df['product_id'].isin(id_20_principales)]\n",
    "\n",
    "tabla_20_principales = producs_id['product_name']\n",
    "\n",
    "tabla_20_principales.index = id_20_principales\n",
    "\n",
    "tabla_20_principales = tabla_20_principales.rename_axis('product_id')\n",
    "\n",
    "\n",
    "print(tabla_20_principales)"
   ]
  },
  {
   "cell_type": "code",
   "execution_count": null,
   "id": "possible-change",
   "metadata": {
    "id": "possible-change",
    "scrolled": true
   },
   "outputs": [],
   "source": []
  },
  {
   "cell_type": "code",
   "execution_count": null,
   "id": "professional-surfing",
   "metadata": {
    "id": "professional-surfing",
    "scrolled": true
   },
   "outputs": [],
   "source": []
  },
  {
   "cell_type": "code",
   "execution_count": null,
   "id": "48dd3658",
   "metadata": {
    "id": "48dd3658"
   },
   "outputs": [],
   "source": []
  },
  {
   "cell_type": "markdown",
   "id": "80e70c74",
   "metadata": {
    "id": "80e70c74"
   },
   "source": [
    "Escribe aquí tus conclusiones"
   ]
  },
  {
   "cell_type": "markdown",
   "id": "9d312b14",
   "metadata": {
    "id": "9d312b14"
   },
   "source": [
    "### [C3] Para cada producto, ¿cuál es la proporción de las veces que se pide y que se vuelve a pedir?"
   ]
  },
  {
   "cell_type": "code",
   "execution_count": null,
   "id": "8ae9f4b1",
   "metadata": {
    "id": "8ae9f4b1"
   },
   "outputs": [],
   "source": []
  },
  {
   "cell_type": "code",
   "execution_count": null,
   "id": "103e7fe1",
   "metadata": {
    "id": "103e7fe1"
   },
   "outputs": [],
   "source": []
  },
  {
   "cell_type": "code",
   "execution_count": null,
   "id": "social-individual",
   "metadata": {
    "id": "social-individual"
   },
   "outputs": [],
   "source": []
  },
  {
   "cell_type": "markdown",
   "id": "I10dEIAyldcO",
   "metadata": {
    "id": "I10dEIAyldcO"
   },
   "source": [
    "Escribe aquí tus conclusiones"
   ]
  },
  {
   "cell_type": "markdown",
   "id": "subject-boxing",
   "metadata": {
    "id": "subject-boxing"
   },
   "source": [
    "### [C4] Para cada cliente, ¿qué proporción de sus productos ya los había pedido?"
   ]
  },
  {
   "cell_type": "code",
   "execution_count": null,
   "id": "medical-couple",
   "metadata": {
    "id": "medical-couple",
    "scrolled": true
   },
   "outputs": [],
   "source": []
  },
  {
   "cell_type": "code",
   "execution_count": null,
   "id": "8892e4b4",
   "metadata": {
    "id": "8892e4b4"
   },
   "outputs": [],
   "source": []
  },
  {
   "cell_type": "markdown",
   "id": "BgJSvXDsleXz",
   "metadata": {
    "id": "BgJSvXDsleXz"
   },
   "source": [
    "Escribe aquí tus conclusiones"
   ]
  },
  {
   "cell_type": "markdown",
   "id": "92d35137",
   "metadata": {
    "id": "92d35137"
   },
   "source": [
    "### [C5] ¿Cuáles son los 20 principales artículos que las personas ponen primero en sus carritos?"
   ]
  },
  {
   "cell_type": "code",
   "execution_count": null,
   "id": "0ae57274",
   "metadata": {
    "id": "0ae57274",
    "scrolled": true
   },
   "outputs": [],
   "source": []
  },
  {
   "cell_type": "code",
   "execution_count": null,
   "id": "forty-netherlands",
   "metadata": {
    "id": "forty-netherlands",
    "scrolled": true
   },
   "outputs": [],
   "source": []
  },
  {
   "cell_type": "code",
   "execution_count": null,
   "id": "08e41ec2",
   "metadata": {
    "id": "08e41ec2"
   },
   "outputs": [],
   "source": []
  },
  {
   "cell_type": "markdown",
   "id": "28ce9872",
   "metadata": {
    "id": "28ce9872"
   },
   "source": [
    "Escribe aquí tus conclusiones"
   ]
  },
  {
   "cell_type": "markdown",
   "id": "uITbFCEoDosC",
   "metadata": {
    "id": "uITbFCEoDosC"
   },
   "source": [
    "### Conclusion general del proyecto:"
   ]
  },
  {
   "cell_type": "code",
   "execution_count": null,
   "id": "Nk-4GS7mDwqY",
   "metadata": {
    "id": "Nk-4GS7mDwqY"
   },
   "outputs": [],
   "source": []
  }
 ],
 "metadata": {
  "colab": {
   "provenance": []
  },
  "kernelspec": {
   "display_name": "Python 3 (ipykernel)",
   "language": "python",
   "name": "python3"
  },
  "language_info": {
   "codemirror_mode": {
    "name": "ipython",
    "version": 3
   },
   "file_extension": ".py",
   "mimetype": "text/x-python",
   "name": "python",
   "nbconvert_exporter": "python",
   "pygments_lexer": "ipython3",
   "version": "3.9.2"
  },
  "toc": {
   "base_numbering": 1,
   "nav_menu": {},
   "number_sections": true,
   "sideBar": true,
   "skip_h1_title": true,
   "title_cell": "Table of Contents",
   "title_sidebar": "Contents",
   "toc_cell": false,
   "toc_position": {},
   "toc_section_display": true,
   "toc_window_display": false
  },
  "vscode": {
   "interpreter": {
    "hash": "01a7be9ec63e704a62cefc5fe7a4756944464ee731be31632bdf42a4cb4688cf"
   }
  }
 },
 "nbformat": 4,
 "nbformat_minor": 5
}
